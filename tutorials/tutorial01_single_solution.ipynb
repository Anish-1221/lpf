{
 "cells": [
  {
   "cell_type": "code",
   "execution_count": 1,
   "id": "24598302-24bb-4caf-b73a-7ad001bf28eb",
   "metadata": {},
   "outputs": [],
   "source": [
    "import os\n",
    "import os.path as osp\n",
    "from os.path import join as pjoin\n",
    "import time\n",
    "from datetime import datetime\n",
    "import json\n",
    "\n",
    "import numpy as np\n",
    "np.seterr(all='raise')\n",
    "from PIL import Image\n",
    "\n",
    "from lpf.data import load_model_dicts\n",
    "from lpf.initializers import LiawInitializer\n",
    "from lpf.models import LiawModel\n",
    "from lpf.solvers import EulerSolver, RungeKuttaSolver"
   ]
  },
  {
   "cell_type": "code",
   "execution_count": 2,
   "id": "2ad635c9-f1da-4db6-82d2-430d8a979d85",
   "metadata": {},
   "outputs": [],
   "source": [
    "batch_size = 1  # A single set of parameters\n",
    "device = \"cpu\"  # Device option: CPU or GPU\n",
    "\n",
    "# Time parameters\n",
    "dt = 0.01\n",
    "n_iters = 500000\n",
    "\n",
    "# Space parameters\n",
    "dx = 0.1\n",
    "width = 128\n",
    "height = 128\n",
    "shape = (height, width)"
   ]
  },
  {
   "cell_type": "code",
   "execution_count": 3,
   "id": "540ddb36-8eeb-4545-a296-cb15ab7bc096",
   "metadata": {},
   "outputs": [],
   "source": [
    "# Create the output directory.\n",
    "str_now = datetime.now().strftime('%Y%m%d-%H%M%S')\n",
    "dpath_output = pjoin(osp.abspath(\"./output\"), \"experiment_batch_%s\" % (str_now))\n",
    "os.makedirs(dpath_output, exist_ok=True)"
   ]
  },
  {
   "cell_type": "code",
   "execution_count": 4,
   "id": "dd3bba20-09d5-4b2c-82ff-1f11eaf0948f",
   "metadata": {},
   "outputs": [],
   "source": [
    "# Create a dict for parameters.\n",
    "param_dict = param_dict = {\n",
    "    \"u0\": 2.0, \"v0\": 1.0,\n",
    "    \"Du\": 0.0005, \"Dv\": 0.075,\n",
    "    \"ru\": 0.18, \"rv\": 0.02874,\n",
    "    \"su\": 0.001, \"sv\": 0.025, \n",
    "    \"k\": 0.084, \n",
    "    \"mu\": 0.08     \n",
    "}"
   ]
  },
  {
   "cell_type": "code",
   "execution_count": 5,
   "id": "e8490974-7289-4b68-9855-399f8196c508",
   "metadata": {},
   "outputs": [],
   "source": [
    "# In this example, we use random positions for initializing u with u0.\n",
    "for i in range(25):\n",
    "    param_dict[\"init_pts_%d\"%(i+1)] = (np.random.randint(0, height), np.random.randint(0, width))"
   ]
  },
  {
   "cell_type": "code",
   "execution_count": 6,
   "id": "4fe30b4a-47a7-44bf-ba78-9cd26602b99f",
   "metadata": {},
   "outputs": [
    {
     "data": {
      "text/plain": [
       "{'u0': 2.0,\n",
       " 'v0': 1.0,\n",
       " 'Du': 0.0005,\n",
       " 'Dv': 0.075,\n",
       " 'ru': 0.18,\n",
       " 'rv': 0.02874,\n",
       " 'su': 0.001,\n",
       " 'sv': 0.025,\n",
       " 'k': 0.084,\n",
       " 'mu': 0.08,\n",
       " 'init_pts_1': (75, 37),\n",
       " 'init_pts_2': (82, 116),\n",
       " 'init_pts_3': (0, 49),\n",
       " 'init_pts_4': (62, 28),\n",
       " 'init_pts_5': (21, 63),\n",
       " 'init_pts_6': (116, 90),\n",
       " 'init_pts_7': (26, 67),\n",
       " 'init_pts_8': (40, 83),\n",
       " 'init_pts_9': (31, 89),\n",
       " 'init_pts_10': (108, 78),\n",
       " 'init_pts_11': (16, 10),\n",
       " 'init_pts_12': (96, 103),\n",
       " 'init_pts_13': (96, 50),\n",
       " 'init_pts_14': (2, 5),\n",
       " 'init_pts_15': (56, 17),\n",
       " 'init_pts_16': (1, 47),\n",
       " 'init_pts_17': (84, 100),\n",
       " 'init_pts_18': (104, 25),\n",
       " 'init_pts_19': (73, 5),\n",
       " 'init_pts_20': (113, 93),\n",
       " 'init_pts_21': (14, 80),\n",
       " 'init_pts_22': (107, 49),\n",
       " 'init_pts_23': (111, 97),\n",
       " 'init_pts_24': (37, 87),\n",
       " 'init_pts_25': (93, 12)}"
      ]
     },
     "execution_count": 6,
     "metadata": {},
     "output_type": "execute_result"
    }
   ],
   "source": [
    "param_dict"
   ]
  },
  {
   "cell_type": "code",
   "execution_count": 7,
   "id": "28b297a1-a4d5-4837-92df-787f7c24e0cd",
   "metadata": {},
   "outputs": [],
   "source": [
    "param_dicts = []\n",
    "param_dicts.append(param_dict)"
   ]
  },
  {
   "cell_type": "code",
   "execution_count": 8,
   "id": "b099db95-f779-4f2e-962b-fa28fdf0fb21",
   "metadata": {},
   "outputs": [],
   "source": [
    "# Create the Liaw initializer.\n",
    "initializer = LiawInitializer()\n",
    "initializer.update(param_dicts)\n",
    "params = LiawModel.parse_params(param_dicts)"
   ]
  },
  {
   "cell_type": "code",
   "execution_count": 9,
   "id": "0248cf99-f281-409e-bf5f-7e1b63a10a64",
   "metadata": {},
   "outputs": [],
   "source": [
    "# Create the Liaw model.\n",
    "model = LiawModel(\n",
    "    initializer=initializer,\n",
    "    params=params,\n",
    "    dx=dx,\n",
    "    width=width,\n",
    "    height=height,\n",
    "    device=device\n",
    ")"
   ]
  },
  {
   "cell_type": "code",
   "execution_count": 10,
   "id": "1a82d0ad-db43-45dd-a8a8-b7b5314c0d14",
   "metadata": {
    "tags": []
   },
   "outputs": [
    {
     "name": "stdout",
     "output_type": "stream",
     "text": [
      "- [Iteration #1] elapsed time: 2.80073e-02 sec.\n",
      "- [Iteration #50000] elapsed time: 1.01931e+01 sec.\n",
      "- [Iteration #100000] elapsed time: 9.93083e+00 sec.\n",
      "- [Iteration #150000] elapsed time: 1.02310e+01 sec.\n",
      "- [Iteration #200000] elapsed time: 1.02328e+01 sec.\n",
      "- [Iteration #250000] elapsed time: 1.01688e+01 sec.\n",
      "- [Iteration #300000] elapsed time: 1.03601e+01 sec.\n",
      "- [Iteration #350000] elapsed time: 1.00627e+01 sec.\n",
      "- [Iteration #400000] elapsed time: 1.00682e+01 sec.\n",
      "- [Iteration #450000] elapsed time: 1.02887e+01 sec.\n",
      "- [Iteration #500000] elapsed time: 9.95443e+00 sec.\n",
      "- [Duration] : 1.01541e+02 sec.\n",
      "Elapsed time: 101.540606 sec.\n"
     ]
    }
   ],
   "source": [
    "# Create the Euler solver.\n",
    "solver = EulerSolver()\n",
    "\n",
    "t_beg = time.time()\n",
    "\n",
    "solver.solve(\n",
    "    model=model,\n",
    "    dt=dt,\n",
    "    n_iters=n_iters,\n",
    "    period_output=50000,\n",
    "    dpath_model=dpath_output,\n",
    "    dpath_ladybird=dpath_output,\n",
    "    dpath_pattern=dpath_output,\n",
    "    verbose=1\n",
    ")\n",
    "\n",
    "t_end = time.time()\n",
    "\n",
    "print(\"Elapsed time: %f sec.\" % (t_end - t_beg))"
   ]
  },
  {
   "cell_type": "code",
   "execution_count": 11,
   "id": "d6222199-40ce-4045-9bc5-4d74d7caca14",
   "metadata": {},
   "outputs": [
    {
     "name": "stdout",
     "output_type": "stream",
     "text": [
      "model_1\n",
      "models\n"
     ]
    },
    {
     "name": "stderr",
     "output_type": "stream",
     "text": [
      "sys:1: ResourceWarning: unclosed socket <zmq.Socket(zmq.PUSH) at 0x1be2b72bac0>\n",
      "ResourceWarning: Enable tracemalloc to get the object allocation traceback\n",
      "C:\\Anaconda3\\envs\\lpf\\lib\\site-packages\\IPython\\utils\\_process_win32.py:145: ResourceWarning: unclosed file <_io.BufferedWriter name=4>\n",
      "  return process_handler(cmd, _system_body)\n",
      "ResourceWarning: Enable tracemalloc to get the object allocation traceback\n",
      "C:\\Anaconda3\\envs\\lpf\\lib\\site-packages\\IPython\\utils\\_process_win32.py:145: ResourceWarning: unclosed file <_io.BufferedReader name=5>\n",
      "  return process_handler(cmd, _system_body)\n",
      "ResourceWarning: Enable tracemalloc to get the object allocation traceback\n",
      "C:\\Anaconda3\\envs\\lpf\\lib\\site-packages\\IPython\\utils\\_process_win32.py:145: ResourceWarning: unclosed file <_io.BufferedReader name=6>\n",
      "  return process_handler(cmd, _system_body)\n",
      "ResourceWarning: Enable tracemalloc to get the object allocation traceback\n"
     ]
    }
   ],
   "source": [
    "# Sub-directories in the output directory\n",
    "!ls {dpath_output}"
   ]
  },
  {
   "cell_type": "code",
   "execution_count": 12,
   "id": "5c621097-2599-4c34-9f62-ef8f0f9748e2",
   "metadata": {},
   "outputs": [
    {
     "name": "stdout",
     "output_type": "stream",
     "text": [
      "ladybird_000001.png\n",
      "ladybird_050000.png\n",
      "ladybird_100000.png\n",
      "ladybird_150000.png\n",
      "ladybird_200000.png\n",
      "ladybird_250000.png\n",
      "ladybird_300000.png\n",
      "ladybird_350000.png\n",
      "ladybird_400000.png\n",
      "ladybird_450000.png\n",
      "ladybird_500000.png\n",
      "pattern_000001.png\n",
      "pattern_050000.png\n",
      "pattern_100000.png\n",
      "pattern_150000.png\n",
      "pattern_200000.png\n",
      "pattern_250000.png\n",
      "pattern_300000.png\n",
      "pattern_350000.png\n",
      "pattern_400000.png\n",
      "pattern_450000.png\n",
      "pattern_500000.png\n"
     ]
    },
    {
     "name": "stderr",
     "output_type": "stream",
     "text": [
      "sys:1: ResourceWarning: unclosed socket <zmq.Socket(zmq.PUSH) at 0x1be2a6e8ca0>\n",
      "ResourceWarning: Enable tracemalloc to get the object allocation traceback\n"
     ]
    }
   ],
   "source": [
    "# Generated images\n",
    "dpath_images = pjoin(dpath_output, \"model_1\")\n",
    "!ls {dpath_images}"
   ]
  },
  {
   "cell_type": "code",
   "execution_count": 13,
   "id": "5a8c438e-b998-45ce-bf7f-c3375ac15640",
   "metadata": {},
   "outputs": [
    {
     "data": {
      "image/png": "[encoded data removed]",
      "text/plain": [
       "<PIL.PngImagePlugin.PngImageFile image mode=RGB size=128x128>"
      ]
     },
     "execution_count": 13,
     "metadata": {},
     "output_type": "execute_result"
    }
   ],
   "source": [
    "# Show the pattern at last.\n",
    "img_pattern = Image.open(pjoin(dpath_images, \"pattern_500000.png\"))\n",
    "img_pattern"
   ]
  },
  {
   "cell_type": "code",
   "execution_count": 14,
   "id": "065b5101-6a58-4d74-a729-2ddc0e65b3f0",
   "metadata": {},
   "outputs": [
    {
     "data": {
      "image/png": "[encoded data removed]",
      "text/plain": [
       "<PIL.PngImagePlugin.PngImageFile image mode=RGBA size=104x126>"
      ]
     },
     "execution_count": 14,
     "metadata": {},
     "output_type": "execute_result"
    }
   ],
   "source": [
    "img_ladybird = Image.open(pjoin(dpath_images, \"ladybird_500000.png\"))\n",
    "img_ladybird"
   ]
  },
  {
   "cell_type": "code",
   "execution_count": 15,
   "id": "3874ad9c-696b-47f5-b734-be78103320f1",
   "metadata": {},
   "outputs": [
    {
     "name": "stdout",
     "output_type": "stream",
     "text": [
      "model_1.json\n"
     ]
    },
    {
     "name": "stderr",
     "output_type": "stream",
     "text": [
      "sys:1: ResourceWarning: unclosed socket <zmq.Socket(zmq.PUSH) at 0x1be797a2400>\n",
      "ResourceWarning: Enable tracemalloc to get the object allocation traceback\n"
     ]
    }
   ],
   "source": [
    "# Model file\n",
    "!ls {pjoin(dpath_output, \"models\")}"
   ]
  },
  {
   "cell_type": "code",
   "execution_count": 16,
   "id": "b8853816-ed11-40c2-b1ad-1d39569cee88",
   "metadata": {},
   "outputs": [
    {
     "data": {
      "text/plain": [
       "{'index': 0,\n",
       " 'generation': None,\n",
       " 'fitness': None,\n",
       " 'Du': 0.0005,\n",
       " 'Dv': 0.075,\n",
       " 'ru': 0.18,\n",
       " 'rv': 0.02874,\n",
       " 'k': 0.084,\n",
       " 'su': 0.001,\n",
       " 'sv': 0.025,\n",
       " 'mu': 0.08,\n",
       " 'width': 128,\n",
       " 'height': 128,\n",
       " 'dx': 0.1,\n",
       " 'thr_color': 0.5,\n",
       " 'color_u': [5, 5, 5],\n",
       " 'color_v': [231, 79, 3],\n",
       " 'initializer': 'LiawInitializer',\n",
       " 'u0': 2.0,\n",
       " 'v0': 1.0,\n",
       " 'n_init_pts': 25,\n",
       " 'init_pts_0': [75, 37],\n",
       " 'init_pts_1': [82, 116],\n",
       " 'init_pts_2': [0, 49],\n",
       " 'init_pts_3': [62, 28],\n",
       " 'init_pts_4': [21, 63],\n",
       " 'init_pts_5': [116, 90],\n",
       " 'init_pts_6': [26, 67],\n",
       " 'init_pts_7': [40, 83],\n",
       " 'init_pts_8': [31, 89],\n",
       " 'init_pts_9': [108, 78],\n",
       " 'init_pts_10': [16, 10],\n",
       " 'init_pts_11': [96, 103],\n",
       " 'init_pts_12': [96, 50],\n",
       " 'init_pts_13': [2, 5],\n",
       " 'init_pts_14': [56, 17],\n",
       " 'init_pts_15': [1, 47],\n",
       " 'init_pts_16': [84, 100],\n",
       " 'init_pts_17': [104, 25],\n",
       " 'init_pts_18': [73, 5],\n",
       " 'init_pts_19': [113, 93],\n",
       " 'init_pts_20': [14, 80],\n",
       " 'init_pts_21': [107, 49],\n",
       " 'init_pts_22': [111, 97],\n",
       " 'init_pts_23': [37, 87],\n",
       " 'init_pts_24': [93, 12],\n",
       " 'solver': 'Euler',\n",
       " 'dt': 0.01,\n",
       " 'n_iters': 500000,\n",
       " 'rtol': None}"
      ]
     },
     "execution_count": 16,
     "metadata": {},
     "output_type": "execute_result"
    }
   ],
   "source": [
    "fpath_model = pjoin(dpath_output, \"models\", \"model_1.json\")\n",
    "with open(fpath_model, \"rt\") as fin:\n",
    "    model_dict = json.load(fin)\n",
    "    \n",
    "model_dict"
   ]
  }
 ],
 "metadata": {
  "kernelspec": {
   "display_name": "Python 3 (ipykernel)",
   "language": "python",
   "name": "python3"
  },
  "language_info": {
   "codemirror_mode": {
    "name": "ipython",
    "version": 3
   },
   "file_extension": ".py",
   "mimetype": "text/x-python",
   "name": "python",
   "nbconvert_exporter": "python",
   "pygments_lexer": "ipython3",
   "version": "3.9.15"
  }
 },
 "nbformat": 4,
 "nbformat_minor": 5
}

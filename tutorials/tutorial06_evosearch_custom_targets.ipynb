{
 "cells": [
  {
   "cell_type": "code",
   "execution_count": 1,
   "id": "d719c939-3ab4-4ffb-9bad-1179bcb60c05",
   "metadata": {},
   "outputs": [],
   "source": [
    "import os\n",
    "import os.path as osp\n",
    "import time\n",
    "\n",
    "import numpy as np\n",
    "import pygmo as pg\n",
    "from PIL import Image\n",
    "\n",
    "from lpf.data import load_model_dicts\n",
    "from lpf.data import load_custom_targets\n",
    "from lpf.solvers import SolverFactory\n",
    "from lpf.search import EvoSearch\n",
    "from lpf.objectives import ObjectiveFactory\n",
    "from lpf.models import ModelFactory\n",
    "from lpf.converters import ConverterFactory"
   ]
  },
  {
   "cell_type": "code",
   "execution_count": 2,
   "id": "5e18972c-e8ee-4c72-b08c-7cbad0a1d7bb",
   "metadata": {},
   "outputs": [
    {
     "data": {
      "text/plain": [
       "'/home/dwlee/repos/lpf'"
      ]
     },
     "execution_count": 2,
     "metadata": {},
     "output_type": "execute_result"
    }
   ],
   "source": [
    "LPF_REPO_HOME = osp.abspath(\"..\")\n",
    "LPF_REPO_HOME"
   ]
  },
  {
   "cell_type": "code",
   "execution_count": 3,
   "id": "2281eff9-d6cf-40fe-917a-e0b67ca0491c",
   "metadata": {},
   "outputs": [],
   "source": [
    "# Create a model.\n",
    "dx = 0.1\n",
    "width = 128\n",
    "height = 128\n",
    "n_init_pts = 25\n",
    "\n",
    "model = ModelFactory.create(\n",
    "    name=\"Liaw\",\n",
    "    n_init_pts=n_init_pts,\n",
    "    width=width,\n",
    "    height=height,                 \n",
    "    dx=dx\n",
    ")"
   ]
  },
  {
   "cell_type": "code",
   "execution_count": 4,
   "id": "86be0903-2d28-40ba-a76d-e88db8f8c197",
   "metadata": {},
   "outputs": [],
   "source": [
    "# Create a solver.\n",
    "dt = 0.01\n",
    "n_iters = 500000\n",
    "solver = SolverFactory.create(name=\"Euler\", dt=dt, n_iters=n_iters)"
   ]
  },
  {
   "cell_type": "code",
   "execution_count": 5,
   "id": "0d934612-74e0-4057-aec4-b26d6a036ab9",
   "metadata": {},
   "outputs": [],
   "source": [
    "# Create a converter.\n",
    "converter = ConverterFactory.create(\"LiawInitializer\")"
   ]
  },
  {
   "cell_type": "code",
   "execution_count": 6,
   "id": "483d183c-4ccc-4942-a3fb-95cc5d59ce29",
   "metadata": {},
   "outputs": [
    {
     "name": "stdout",
     "output_type": "stream",
     "text": [
      "[OBJECTIVE DEVICE] MeanMeanSquareError: cpu\n",
      "[OBJECTIVE DEVICE] MeanColorProportion: cpu\n",
      "[OBJECTIVE DEVICE] MeanVgg16PerceptualLoss: cuda:0\n",
      "[OBJECTIVE DEVICE] MeanLearnedPerceptualImagePatchSimilarity:vgg: cuda:0\n"
     ]
    },
    {
     "name": "stderr",
     "output_type": "stream",
     "text": [
      "/home/dwlee/softwares/anaconda3/envs/lpf/lib/python3.9/site-packages/torchvision/models/_utils.py:208: UserWarning: The parameter 'pretrained' is deprecated since 0.13 and may be removed in the future, please use 'weights' instead.\n",
      "  warnings.warn(\n",
      "/home/dwlee/softwares/anaconda3/envs/lpf/lib/python3.9/site-packages/torchvision/models/_utils.py:223: UserWarning: Arguments other than a weight enum or `None` for 'weights' are deprecated since 0.13 and may be removed in the future. The current behavior is equivalent to passing `weights=VGG16_Weights.IMAGENET1K_V1`. You can also use `weights=VGG16_Weights.DEFAULT` to get the most up-to-date weights.\n",
      "  warnings.warn(msg)\n"
     ]
    },
    {
     "name": "stdout",
     "output_type": "stream",
     "text": [
      "[OBJECTIVE DEVICE] MeanLearnedPerceptualImagePatchSimilarity:alex: cuda:0\n"
     ]
    },
    {
     "name": "stderr",
     "output_type": "stream",
     "text": [
      "/home/dwlee/softwares/anaconda3/envs/lpf/lib/python3.9/site-packages/torchvision/models/_utils.py:223: UserWarning: Arguments other than a weight enum or `None` for 'weights' are deprecated since 0.13 and may be removed in the future. The current behavior is equivalent to passing `weights=AlexNet_Weights.IMAGENET1K_V1`. You can also use `weights=AlexNet_Weights.DEFAULT` to get the most up-to-date weights.\n",
      "  warnings.warn(msg)\n"
     ]
    }
   ],
   "source": [
    "# Create objectives.\n",
    "obj_config = [\n",
    "    ['MeanMeanSquareError', '1e-1', 'cpu'],\n",
    "    ['MeanColorProportion', '1e0', 'cpu'],\n",
    "    ['MeanVgg16PerceptualLoss', '1e-4', 'cuda:0'],\n",
    "    ['MeanLearnedPerceptualImagePatchSimilarity:vgg', '1.5e1', 'cuda:0'],\n",
    "    ['MeanLearnedPerceptualImagePatchSimilarity:alex', '4e0', 'cuda:0']\n",
    "]\n",
    "\n",
    "objectives = ObjectiveFactory.create(obj_config)"
   ]
  },
  {
   "cell_type": "code",
   "execution_count": 7,
   "id": "f0a40ee5-1b9b-4c57-bae3-b97d5939052b",
   "metadata": {},
   "outputs": [
    {
     "name": "stdout",
     "output_type": "stream",
     "text": [
      "[TARGET] spectabilis01.png has been added...\n"
     ]
    },
    {
     "data": {
      "image/png": "[encoded data removed]",
      "text/plain": [
       "<PIL.Image.Image image mode=RGB size=104x126>"
      ]
     },
     "metadata": {},
     "output_type": "display_data"
    }
   ],
   "source": [
    "# Load the target laybirds.\n",
    "targets = load_custom_targets(\"../lpf/data/haxyridis/photo\", \"spectabilis\")\n",
    "\n",
    "for img in targets:    \n",
    "    display(img)\n"
   ]
  },
  {
   "cell_type": "code",
   "execution_count": 8,
   "id": "80f43f97-d841-4d3d-8ba7-3032d6aa419a",
   "metadata": {},
   "outputs": [],
   "source": [
    "# Create an evolutionary search problem.\n",
    "droot_output = osp.join(\"./output\")\n",
    "\n",
    "search = EvoSearch(model=model,\n",
    "                   solver=solver,\n",
    "                   converter=converter,\n",
    "                   targets=targets,\n",
    "                   objectives=objectives,\n",
    "                   droot_output=droot_output)\n",
    "\n",
    "prob = pg.problem(search)"
   ]
  },
  {
   "cell_type": "code",
   "execution_count": 9,
   "id": "0f50f49f-464c-42dc-9793-eb097c99c7ac",
   "metadata": {},
   "outputs": [],
   "source": [
    "dpath_init_pop = osp.join(LPF_REPO_HOME, \"population\", \"init_pop_axyridis\")  \n",
    "model_dicts = load_model_dicts(dpath_init_pop)"
   ]
  },
  {
   "cell_type": "code",
   "execution_count": null,
   "id": "68fe61f3-2d4f-42c8-a6a4-8fcea1fa6781",
   "metadata": {},
   "outputs": [
    {
     "name": "stdout",
     "output_type": "stream",
     "text": [
      "[DECISION VECTOR #1]\n",
      " [-3.30103    -1.12493874 -0.74472749 -1.54152514 -0.69897    -3.01175246\n",
      " -1.60205999 -1.09691001  0.30103     0.         40.         10.\n",
      " 40.         30.         40.         50.         21.         70.\n",
      " 40.         90.         50.         10.          8.         30.\n",
      " 50.         50.         50.         70.         50.         90.\n",
      " 60.         10.         60.         30.         60.         50.\n",
      " 60.         70.         60.         90.         13.         10.\n",
      " 70.         30.         70.         50.         70.         70.\n",
      " 70.         90.          0.          0.          0.          0.\n",
      "  0.          0.          0.          0.          0.          0.        ]\n",
      "[DECISION VECTOR #2]\n",
      " [-3.30103    -1.12493874 -0.74472749 -1.54152514 -0.69897    -3.01175246\n",
      " -1.60205999 -1.09691001  0.30103     0.         40.         10.\n",
      " 40.         30.         40.         50.         29.         70.\n",
      " 40.         90.         50.         10.         50.         30.\n",
      " 50.         50.         50.         70.         50.         90.\n",
      " 60.         10.         60.         30.         60.         50.\n",
      " 60.         70.         60.         90.         13.         10.\n",
      " 36.         30.         70.         50.         70.         70.\n",
      " 70.         90.          0.          0.          0.          0.\n",
      "  0.          0.          0.          0.          0.          0.        ]\n",
      "[DECISION VECTOR #3]\n",
      " [ -3.30103     -1.12493874  -0.74472749  -1.54152514  -0.69897\n",
      "  -3.          -1.60205999  -1.09691001   0.30103      0.\n",
      "  40.          10.          40.          30.          40.\n",
      "  50.          40.          70.          40.          90.\n",
      "  50.          10.          50.          30.          50.\n",
      "  50.          50.         116.          50.          90.\n",
      "  60.          10.          60.          30.          60.\n",
      "  50.          60.          36.          60.          90.\n",
      "  13.          10.          75.          30.          70.\n",
      "  50.          70.          70.          70.          90.\n",
      "   0.           0.           0.           0.           0.\n",
      "   0.           0.           0.           0.           0.        ]\n"
     ]
    }
   ],
   "source": [
    "t_beg = time.time()\n",
    "\n",
    "# Create the initial population.\n",
    "pop_size = 16  # We set population size = 16.\n",
    "pop = pg.population(prob)\n",
    "dvs = []\n",
    "\n",
    "# Initialize the population with axyridis subtype.\n",
    "for i, param_dict in enumerate(model_dicts):\n",
    "    if i >= pop_size:\n",
    "        break\n",
    "\n",
    "    dv = converter.to_dv(param_dict, n_init_pts)\n",
    "    dvs.append(dv)\n",
    "\n",
    "# Adding decision vectors incorporates evaluating the fitness score.\n",
    "for i, dv in enumerate(dvs):\n",
    "    print(f\"[DECISION VECTOR #{i+1}]\\n\", dv)\n",
    "\n",
    "    # pop.set_x(i, dv)      \n",
    "    pop.push_back(dv) \n",
    "\n",
    "# end of for\n",
    "\n",
    "t_end = time.time()\n",
    "\n",
    "print(\"[POPULATION INITIALIZATION COMPLETED]\")\n",
    "print(\"- DURATION OF INITIALIZING POPULATION: %.3f sec.\"%(t_end - t_beg))\n",
    "print(pop)"
   ]
  },
  {
   "cell_type": "code",
   "execution_count": null,
   "id": "ade07147-4988-4005-a7a2-26560e60251b",
   "metadata": {},
   "outputs": [],
   "source": [
    "# Create an evolutionary algorithm.\n",
    "n_procs = 8\n",
    "n_gen = 10000\n",
    "\n",
    "udi = pg.mp_island()\n",
    "udi.resize_pool(n_procs)\n",
    "\n",
    "algo = pg.algorithm(pg.sade(gen=1))\n",
    "isl = pg.island(algo=algo, pop=pop, udi=udi)\n",
    "print(isl)"
   ]
  },
  {
   "cell_type": "code",
   "execution_count": null,
   "id": "8d385172-7283-4d54-9366-5fdac36bcdea",
   "metadata": {},
   "outputs": [],
   "source": [
    "# Start seraching.\n",
    "try:\n",
    "    for i in range(n_gen):\n",
    "        t_beg = time.time()\n",
    "        isl.evolve()\n",
    "        isl.wait_check()\n",
    "        t_end = time.time()\n",
    "\n",
    "        print(\"[EVOLUTION #%d] Best objective: %f (%.3f sec.)\"%(i + 1, pop.champion_f[0], t_end - t_beg))\n",
    "\n",
    "        # Save the best.\n",
    "        pop = isl.get_population()\n",
    "        search.save(\"best\", pop.champion_x, generation=i+1, fitness=pop.champion_f[0])\n",
    "\n",
    "        # Save the population.\n",
    "        arr_x = pop.get_x()\n",
    "        arr_f = pop.get_f()\n",
    "        for j in range(arr_x.shape[0]):\n",
    "            x = arr_x[j]\n",
    "            fitness = arr_f[j, 0]\n",
    "            search.save(\"pop\", x, generation=i+1, fitness=fitness)\n",
    "    # end of for\n",
    "except Exception as err:\n",
    "    print(err)\n",
    "    udi.shutdown_pool()\n",
    "    raise err\n",
    "\n",
    "\n",
    "print(\"[EVOLUTIONARY SEARCH COMPLETED]\")\n",
    "udi.shutdown_pool()"
   ]
  }
 ],
 "metadata": {
  "kernelspec": {
   "display_name": "Python 3 (ipykernel)",
   "language": "python",
   "name": "python3"
  },
  "language_info": {
   "codemirror_mode": {
    "name": "ipython",
    "version": 3
   },
   "file_extension": ".py",
   "mimetype": "text/x-python",
   "name": "python",
   "nbconvert_exporter": "python",
   "pygments_lexer": "ipython3",
   "version": "3.9.13"
  }
 },
 "nbformat": 4,
 "nbformat_minor": 5
}

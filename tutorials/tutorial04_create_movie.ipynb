{
 "cells": [
  {
   "cell_type": "code",
   "execution_count": 1,
   "id": "24598302-24bb-4caf-b73a-7ad001bf28eb",
   "metadata": {},
   "outputs": [],
   "source": [
    "import os\n",
    "import os.path as osp\n",
    "from os.path import join as pjoin\n",
    "import time\n",
    "from datetime import datetime\n",
    "\n",
    "import numpy as np\n",
    "np.seterr(all='raise')\n",
    "\n",
    "from lpf.data import load_model_dicts\n",
    "from lpf.initializers import LiawInitializer\n",
    "from lpf.models import LiawModel\n",
    "from lpf.solvers import EulerSolver"
   ]
  },
  {
   "cell_type": "code",
   "execution_count": 2,
   "id": "2ad635c9-f1da-4db6-82d2-430d8a979d85",
   "metadata": {},
   "outputs": [],
   "source": [
    "# Select device: CPU or GPU.\n",
    "device = \"cuda:0\"\n",
    "\n",
    "# Time parameters\n",
    "dt = 0.01\n",
    "n_iters = 500000\n",
    "\n",
    "# Space parameters\n",
    "dx = 0.1\n",
    "width = 128\n",
    "height = 128\n",
    "shape = (height, width)"
   ]
  },
  {
   "cell_type": "code",
   "execution_count": 3,
   "id": "540ddb36-8eeb-4545-a296-cb15ab7bc096",
   "metadata": {},
   "outputs": [],
   "source": [
    "# Create the output directory.\n",
    "str_now = datetime.now().strftime('%Y%m%d-%H%M%S')\n",
    "dpath_output = pjoin(osp.abspath(\"./output\"), \"experiment_batch_%s\" % (str_now))\n",
    "os.makedirs(dpath_output, exist_ok=True)"
   ]
  },
  {
   "cell_type": "code",
   "execution_count": 4,
   "id": "4e0e9e09-815f-4321-a291-997cc12929cb",
   "metadata": {},
   "outputs": [],
   "source": [
    "# Load a population of previously defined models.\n",
    "LPF_REPO_HOME = r\"D:/repos/lpf\"\n",
    "dpath_pop = pjoin(LPF_REPO_HOME, \"population\", \"test_pop_01\")\n",
    "model_dicts = load_model_dicts(dpath_pop)"
   ]
  },
  {
   "cell_type": "code",
   "execution_count": 5,
   "id": "b099db95-f779-4f2e-962b-fa28fdf0fb21",
   "metadata": {},
   "outputs": [],
   "source": [
    "# Create the Liaw initializer.\n",
    "initializer = LiawInitializer()\n",
    "initializer.update(model_dicts)\n",
    "params = LiawModel.parse_params(model_dicts)"
   ]
  },
  {
   "cell_type": "code",
   "execution_count": 6,
   "id": "0248cf99-f281-409e-bf5f-7e1b63a10a64",
   "metadata": {},
   "outputs": [],
   "source": [
    "# Create the Liaw model.\n",
    "model = LiawModel(initializer=initializer, params=params, width=width, height=height, dx=dx, device=device)"
   ]
  },
  {
   "cell_type": "code",
   "execution_count": 7,
   "id": "1a82d0ad-db43-45dd-a8a8-b7b5314c0d14",
   "metadata": {
    "tags": []
   },
   "outputs": [
    {
     "name": "stdout",
     "output_type": "stream",
     "text": [
      "- [Iteration #1] elapsed time: 4.50003e-02 sec.\n",
      "- [Iteration #10000] elapsed time: 4.63695e+00 sec.\n",
      "- [Iteration #20000] elapsed time: 4.67625e+00 sec.\n",
      "- [Iteration #30000] elapsed time: 4.75810e+00 sec.\n",
      "- [Iteration #40000] elapsed time: 5.02015e+00 sec.\n",
      "- [Iteration #50000] elapsed time: 5.24031e+00 sec.\n",
      "- [Iteration #60000] elapsed time: 4.62592e+00 sec.\n",
      "- [Iteration #70000] elapsed time: 4.73772e+00 sec.\n",
      "- [Iteration #80000] elapsed time: 4.48289e+00 sec.\n",
      "- [Iteration #90000] elapsed time: 4.67688e+00 sec.\n",
      "- [Iteration #100000] elapsed time: 4.68679e+00 sec.\n",
      "- [Iteration #110000] elapsed time: 4.70728e+00 sec.\n",
      "- [Iteration #120000] elapsed time: 5.16724e+00 sec.\n",
      "- [Iteration #130000] elapsed time: 4.59231e+00 sec.\n",
      "- [Iteration #140000] elapsed time: 4.60336e+00 sec.\n",
      "- [Iteration #150000] elapsed time: 4.46620e+00 sec.\n",
      "- [Iteration #160000] elapsed time: 4.50365e+00 sec.\n",
      "- [Iteration #170000] elapsed time: 4.53896e+00 sec.\n",
      "- [Iteration #180000] elapsed time: 4.63277e+00 sec.\n",
      "- [Iteration #190000] elapsed time: 4.59589e+00 sec.\n",
      "- [Iteration #200000] elapsed time: 4.59749e+00 sec.\n",
      "- [Iteration #210000] elapsed time: 4.79816e+00 sec.\n",
      "- [Iteration #220000] elapsed time: 4.67958e+00 sec.\n",
      "- [Iteration #230000] elapsed time: 4.82151e+00 sec.\n",
      "- [Iteration #240000] elapsed time: 4.49493e+00 sec.\n",
      "- [Iteration #250000] elapsed time: 4.62360e+00 sec.\n",
      "- [Iteration #260000] elapsed time: 4.44082e+00 sec.\n",
      "- [Iteration #270000] elapsed time: 4.61416e+00 sec.\n",
      "- [Iteration #280000] elapsed time: 4.55614e+00 sec.\n",
      "- [Iteration #290000] elapsed time: 4.61580e+00 sec.\n",
      "- [Iteration #300000] elapsed time: 4.45770e+00 sec.\n",
      "- [Iteration #310000] elapsed time: 4.41351e+00 sec.\n",
      "- [Iteration #320000] elapsed time: 4.51827e+00 sec.\n",
      "- [Iteration #330000] elapsed time: 4.60561e+00 sec.\n",
      "- [Iteration #340000] elapsed time: 4.67713e+00 sec.\n",
      "- [Iteration #350000] elapsed time: 4.46291e+00 sec.\n",
      "- [Iteration #360000] elapsed time: 4.52087e+00 sec.\n",
      "- [Iteration #370000] elapsed time: 4.61290e+00 sec.\n",
      "- [Iteration #380000] elapsed time: 4.53255e+00 sec.\n",
      "- [Iteration #390000] elapsed time: 4.70642e+00 sec.\n",
      "- [Iteration #400000] elapsed time: 4.34688e+00 sec.\n",
      "- [Iteration #410000] elapsed time: 4.38929e+00 sec.\n",
      "- [Iteration #420000] elapsed time: 4.32096e+00 sec.\n",
      "- [Iteration #430000] elapsed time: 4.49381e+00 sec.\n",
      "- [Iteration #440000] elapsed time: 4.43315e+00 sec.\n",
      "- [Iteration #450000] elapsed time: 4.41055e+00 sec.\n",
      "- [Iteration #460000] elapsed time: 4.41729e+00 sec.\n",
      "- [Iteration #470000] elapsed time: 4.35958e+00 sec.\n",
      "- [Iteration #480000] elapsed time: 4.57907e+00 sec.\n",
      "- [Iteration #490000] elapsed time: 4.71868e+00 sec.\n",
      "- [Iteration #500000] elapsed time: 5.00527e+00 sec.\n",
      "- [Duration] : 2.30733e+02 sec.\n",
      "Elapsed time: 230.734051 sec.\n"
     ]
    }
   ],
   "source": [
    "# Create the Euler solver.\n",
    "solver = EulerSolver()\n",
    "\n",
    "t_beg = time.time()\n",
    "\n",
    "solver.solve(\n",
    "    model=model,\n",
    "    dt=dt,\n",
    "    n_iters=n_iters,\n",
    "    period_output=10000,\n",
    "    dpath_model=dpath_output,\n",
    "    dpath_ladybird=dpath_output,\n",
    "    dpath_pattern=dpath_output,\n",
    "    verbose=1\n",
    ")\n",
    "\n",
    "t_end = time.time()\n",
    "\n",
    "print(\"Elapsed time: %f sec.\" % (t_end - t_beg))"
   ]
  },
  {
   "cell_type": "code",
   "execution_count": 8,
   "id": "88dd762f-716e-42c5-adf7-50a938602915",
   "metadata": {},
   "outputs": [],
   "source": [
    "from lpf.visualization import merge_multiple_timeseries\n",
    "from lpf.visualization import create_video"
   ]
  },
  {
   "cell_type": "code",
   "execution_count": 9,
   "id": "cd6f00d7-8610-47d3-b58d-7cc6b89d21d2",
   "metadata": {},
   "outputs": [
    {
     "name": "stdout",
     "output_type": "stream",
     "text": [
      "model_1\n",
      "model_2\n",
      "model_3\n",
      "model_4\n",
      "model_5\n",
      "model_6\n",
      "model_7\n",
      "model_8\n",
      "models\n"
     ]
    },
    {
     "name": "stderr",
     "output_type": "stream",
     "text": [
      "sys:1: ResourceWarning: unclosed socket <zmq.Socket(zmq.PUSH) at 0x2c0381dbca0>\n",
      "ResourceWarning: Enable tracemalloc to get the object allocation traceback\n",
      "C:\\Anaconda3\\envs\\lpf\\lib\\site-packages\\IPython\\utils\\_process_win32.py:145: ResourceWarning: unclosed file <_io.BufferedWriter name=4>\n",
      "  return process_handler(cmd, _system_body)\n",
      "ResourceWarning: Enable tracemalloc to get the object allocation traceback\n",
      "C:\\Anaconda3\\envs\\lpf\\lib\\site-packages\\IPython\\utils\\_process_win32.py:145: ResourceWarning: unclosed file <_io.BufferedReader name=5>\n",
      "  return process_handler(cmd, _system_body)\n",
      "ResourceWarning: Enable tracemalloc to get the object allocation traceback\n",
      "C:\\Anaconda3\\envs\\lpf\\lib\\site-packages\\IPython\\utils\\_process_win32.py:145: ResourceWarning: unclosed file <_io.BufferedReader name=6>\n",
      "  return process_handler(cmd, _system_body)\n",
      "ResourceWarning: Enable tracemalloc to get the object allocation traceback\n"
     ]
    }
   ],
   "source": [
    "!ls {dpath_output}"
   ]
  },
  {
   "cell_type": "code",
   "execution_count": 10,
   "id": "d6222199-40ce-4045-9bc5-4d74d7caca14",
   "metadata": {},
   "outputs": [],
   "source": [
    "dpath_frames = osp.join(dpath_output, \"frames\")\n",
    "imgs = merge_multiple_timeseries(dpath_input=dpath_output,\n",
    "                                 dpath_output=dpath_frames,\n",
    "                                 n_cols=4,\n",
    "                                 ratio_resize=1.0,\n",
    "                                 text_format=\"morph = \",\n",
    "                                 font_size=16)"
   ]
  },
  {
   "cell_type": "code",
   "execution_count": 11,
   "id": "fd79dd53-2648-4276-b5d7-3c84e171f3e4",
   "metadata": {},
   "outputs": [
    {
     "name": "stdout",
     "output_type": "stream",
     "text": [
      "frames\n",
      "model_1\n",
      "model_2\n",
      "model_3\n",
      "model_4\n",
      "model_5\n",
      "model_6\n",
      "model_7\n",
      "model_8\n",
      "models\n"
     ]
    },
    {
     "name": "stderr",
     "output_type": "stream",
     "text": [
      "sys:1: ResourceWarning: unclosed socket <zmq.Socket(zmq.PUSH) at 0x2c03821d820>\n",
      "ResourceWarning: Enable tracemalloc to get the object allocation traceback\n"
     ]
    }
   ],
   "source": [
    "# Check the new \"frames\" directory\n",
    "!ls {dpath_output}"
   ]
  },
  {
   "cell_type": "code",
   "execution_count": 12,
   "id": "22be5e35-9613-47b0-bfde-2259b670b992",
   "metadata": {},
   "outputs": [
    {
     "name": "stdout",
     "output_type": "stream",
     "text": [
      "Moviepy - Building video video_morphs.mp4.\n",
      "Moviepy - Writing video video_morphs.mp4\n",
      "\n"
     ]
    },
    {
     "name": "stderr",
     "output_type": "stream",
     "text": [
      "                                                                                                                       "
     ]
    },
    {
     "name": "stdout",
     "output_type": "stream",
     "text": [
      "Moviepy - Done !\n",
      "Moviepy - video ready video_morphs.mp4\n"
     ]
    },
    {
     "name": "stderr",
     "output_type": "stream",
     "text": [
      "\r"
     ]
    }
   ],
   "source": [
    "create_video(dpath_frames, \"video_morphs.mp4\", fps=32, duration=0.1)"
   ]
  },
  {
   "cell_type": "code",
   "execution_count": 13,
   "id": "c55da733-33eb-4388-9361-fdb76d84c4b9",
   "metadata": {},
   "outputs": [
    {
     "data": {
      "text/html": [
       "<video src=\"video_morphs.mp4\" controls  >\n",
       "      Your browser does not support the <code>video</code> element.\n",
       "    </video>"
      ],
      "text/plain": [
       "<IPython.core.display.Video object>"
      ]
     },
     "execution_count": 13,
     "metadata": {},
     "output_type": "execute_result"
    }
   ],
   "source": [
    "from IPython.display import Video\n",
    "Video(\"video_morphs.mp4\")"
   ]
  }
 ],
 "metadata": {
  "kernelspec": {
   "display_name": "Python 3 (ipykernel)",
   "language": "python",
   "name": "python3"
  },
  "language_info": {
   "codemirror_mode": {
    "name": "ipython",
    "version": 3
   },
   "file_extension": ".py",
   "mimetype": "text/x-python",
   "name": "python",
   "nbconvert_exporter": "python",
   "pygments_lexer": "ipython3",
   "version": "3.9.15"
  }
 },
 "nbformat": 4,
 "nbformat_minor": 5
}
